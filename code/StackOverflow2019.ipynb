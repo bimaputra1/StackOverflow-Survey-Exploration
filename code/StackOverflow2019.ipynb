{
 "cells": [
  {
   "cell_type": "markdown",
   "metadata": {},
   "source": [
    "# Getting Insight from 2019 StackOverflow Survey Data "
   ]
  },
  {
   "cell_type": "markdown",
   "metadata": {},
   "source": [
    "Stack Overflow’s annual Developer Survey is the largest and most comprehensive survey of people who code around the world. Each year, State Overflow's field a survey covering everything from developers’ favorite technologies to their job preferences. In 2019 marks the ninth year Stack Overflow published annual Developer Survey results, and nearly 90,000 developers took the 20-minute survey earlier this year. The Result of this survey could be obtained [here](https://insights.stackoverflow.com/survey/)"
   ]
  },
  {
   "cell_type": "markdown",
   "metadata": {},
   "source": [
    "## Problem Definition"
   ]
  },
  {
   "cell_type": "markdown",
   "metadata": {},
   "source": [
    "In this projects I want to understand how stack overflow used by communities to help them in 2019\n",
    "We will find the answer from this following question:\n",
    "- How often are people visiting Stack Overflow?\n",
    "- Why Do Developers Visit Stack Overflow?\n",
    "- How many times a week people find answers on stack overflow?\n",
    "- Why peoples are visiting Stack Overflow compared to other platform?"
   ]
  },
  {
   "cell_type": "markdown",
   "metadata": {},
   "source": [
    "## Data Understanding"
   ]
  },
  {
   "cell_type": "markdown",
   "metadata": {},
   "source": [
    "To Answer those 4 questions, we will only import specific column."
   ]
  },
  {
   "cell_type": "code",
   "execution_count": 155,
   "metadata": {},
   "outputs": [],
   "source": [
    "# Import Library\\\n",
    "import pandas as pd\n",
    "import numpy as np\n",
    "import seaborn as sns\n",
    "import matplotlib.pyplot as plt\n",
    "\n",
    "# Notebook Setup\n",
    "%matplotlib inline\n",
    "pd.set_option('display.max_columns', None)\n",
    "pd.set_option('display.max_row', 25)"
   ]
  },
  {
   "cell_type": "code",
   "execution_count": 156,
   "metadata": {},
   "outputs": [],
   "source": [
    "def import_data(file_path,column_list=None):\n",
    "    ''' \n",
    "    Function:\n",
    "        This function use to import selected data to workspace\n",
    "    \n",
    "    Args:\n",
    "        file_name: string file path location\n",
    "        column_list: list of selected column to import, if none will import all\n",
    "    \n",
    "    Return:\n",
    "        dataframe from data sources\n",
    "    '''\n",
    "        \n",
    "    df = pd.read_csv(file_path)\n",
    "    \n",
    "    if column_list is not None:\n",
    "        df = df[column_list]    \n",
    "    \n",
    "    return df"
   ]
  },
  {
   "cell_type": "code",
   "execution_count": 157,
   "metadata": {},
   "outputs": [
    {
     "data": {
      "text/html": [
       "<div>\n",
       "<style scoped>\n",
       "    .dataframe tbody tr th:only-of-type {\n",
       "        vertical-align: middle;\n",
       "    }\n",
       "\n",
       "    .dataframe tbody tr th {\n",
       "        vertical-align: top;\n",
       "    }\n",
       "\n",
       "    .dataframe thead th {\n",
       "        text-align: right;\n",
       "    }\n",
       "</style>\n",
       "<table border=\"1\" class=\"dataframe\">\n",
       "  <thead>\n",
       "    <tr style=\"text-align: right;\">\n",
       "      <th></th>\n",
       "      <th>Respondent</th>\n",
       "      <th>SOVisitFreq</th>\n",
       "      <th>SOVisitTo</th>\n",
       "      <th>SOTimeSaved</th>\n",
       "    </tr>\n",
       "  </thead>\n",
       "  <tbody>\n",
       "    <tr>\n",
       "      <th>0</th>\n",
       "      <td>1</td>\n",
       "      <td>A few times per month or weekly</td>\n",
       "      <td>Find answers to specific questions;Learn how t...</td>\n",
       "      <td>Stack Overflow was much faster</td>\n",
       "    </tr>\n",
       "    <tr>\n",
       "      <th>1</th>\n",
       "      <td>2</td>\n",
       "      <td>Daily or almost daily</td>\n",
       "      <td>Find answers to specific questions;Learn how t...</td>\n",
       "      <td>Stack Overflow was much faster</td>\n",
       "    </tr>\n",
       "    <tr>\n",
       "      <th>2</th>\n",
       "      <td>3</td>\n",
       "      <td>A few times per week</td>\n",
       "      <td>Find answers to specific questions;Learn how t...</td>\n",
       "      <td>They were about the same</td>\n",
       "    </tr>\n",
       "    <tr>\n",
       "      <th>3</th>\n",
       "      <td>4</td>\n",
       "      <td>Daily or almost daily</td>\n",
       "      <td>Find answers to specific questions;Pass the ti...</td>\n",
       "      <td>Stack Overflow was much faster</td>\n",
       "    </tr>\n",
       "    <tr>\n",
       "      <th>4</th>\n",
       "      <td>5</td>\n",
       "      <td>Multiple times per day</td>\n",
       "      <td>Find answers to specific questions</td>\n",
       "      <td>Stack Overflow was much faster</td>\n",
       "    </tr>\n",
       "  </tbody>\n",
       "</table>\n",
       "</div>"
      ],
      "text/plain": [
       "   Respondent                      SOVisitFreq  \\\n",
       "0           1  A few times per month or weekly   \n",
       "1           2            Daily or almost daily   \n",
       "2           3             A few times per week   \n",
       "3           4            Daily or almost daily   \n",
       "4           5           Multiple times per day   \n",
       "\n",
       "                                           SOVisitTo  \\\n",
       "0  Find answers to specific questions;Learn how t...   \n",
       "1  Find answers to specific questions;Learn how t...   \n",
       "2  Find answers to specific questions;Learn how t...   \n",
       "3  Find answers to specific questions;Pass the ti...   \n",
       "4                 Find answers to specific questions   \n",
       "\n",
       "                      SOTimeSaved  \n",
       "0  Stack Overflow was much faster  \n",
       "1  Stack Overflow was much faster  \n",
       "2        They were about the same  \n",
       "3  Stack Overflow was much faster  \n",
       "4  Stack Overflow was much faster  "
      ]
     },
     "execution_count": 157,
     "metadata": {},
     "output_type": "execute_result"
    }
   ],
   "source": [
    "# import dataset\n",
    "path = '../data/survey_results_public.csv'\n",
    "column_list =['Respondent','SOVisitFreq','SOVisitTo','SOTimeSaved']\n",
    "df = import_data(path, column_list)\n",
    "df.head()"
   ]
  },
  {
   "cell_type": "code",
   "execution_count": 158,
   "metadata": {},
   "outputs": [],
   "source": [
    "def data_summaries(df, pred=None):\n",
    "    \"\"\" \n",
    "    Purposes:\n",
    "        - This function used to print summary of the data\n",
    "    \n",
    "    Args:\n",
    "        - df = dataframe that will be describes\n",
    "        - pred = Target column tha will be predict\n",
    "        \n",
    "    Output:\n",
    "        - \n",
    "\n",
    "    Return:\n",
    "        - None\n",
    "\n",
    "    \"\"\"\n",
    "    obs = df.shape[0]\n",
    "    types = df.dtypes\n",
    "    row_counts = df.count()\n",
    "    uniques = df.nunique()\n",
    "    missing_values = df.isna().sum()\n",
    "    missing_ratio = (df.isna().sum()/ obs) * 100\n",
    "    distinct_values = df.apply(lambda x: [x.unique()])\n",
    "    skewness = df.skew()\n",
    "    kurtosis = df.kurt()\n",
    "    stat = df.describe().round(2).T\n",
    "    \n",
    "    print (\"DATA SUMMARIES\")\n",
    "    print (\"\\n----- Data Shape -----\\n\")\n",
    "    print('Total Rows:', df.shape[0])\n",
    "    print('Total Columns:', df.shape[1])\n",
    "    print('Duplicate Records:', df.duplicated().sum())\n",
    "    \n",
    "    overview_cols = ['types', 'counts', 'distincts', 'missing count', 'missing ratio', 'distinct values']\n",
    "    overview = pd.concat([types, row_counts, uniques, missing_values, missing_ratio, distinct_values], axis = 1)\n",
    "    overview.columns = overview_cols\n",
    "    \n",
    "    if pred is None:\n",
    "        stat_cols = ['mean', 'std', 'min', '25%', '50%', '75%', 'max', 'skewness', 'kurtosis']\n",
    "        data_stat = pd.concat([stat['mean'], stat['std'], stat['min'], stat['25%'], stat['50%'], stat['75%'], stat['max'],skewness, kurtosis], axis = 1, join = 'inner')\n",
    "\n",
    "    else:\n",
    "        corr = df.corr()[pred]\n",
    "        data_stat = pd.concat([stat['mean'], stat['std'], stat['min'], stat['25%'], stat['50%'], stat['75%'], stat['max'],skewness, kurtosis,corr], axis = 1, join = 'inner')\n",
    "        corr_col = 'corr '  + pred\n",
    "        stat_cols = ['mean', 'std', 'min', '25%', '50%', '75%', 'max', 'skewness', 'kurtosis', corr_col ]\n",
    "    \n",
    "    data_stat.columns = stat_cols\n",
    "    \n",
    "    print('\\n----- Data Overview -----\\n')\n",
    "    display(overview.sort_values('missing ratio', ascending = False))\n",
    "    print('\\n----- Descriptive Statistics -----\\n')\n",
    "    display(data_stat)"
   ]
  },
  {
   "cell_type": "code",
   "execution_count": 159,
   "metadata": {},
   "outputs": [
    {
     "name": "stdout",
     "output_type": "stream",
     "text": [
      "DATA SUMMARIES\n",
      "\n",
      "----- Data Shape -----\n",
      "\n",
      "Total Rows: 88883\n",
      "Total Columns: 4\n",
      "Duplicate Records: 0\n",
      "\n",
      "----- Data Overview -----\n",
      "\n"
     ]
    },
    {
     "data": {
      "text/html": [
       "<div>\n",
       "<style scoped>\n",
       "    .dataframe tbody tr th:only-of-type {\n",
       "        vertical-align: middle;\n",
       "    }\n",
       "\n",
       "    .dataframe tbody tr th {\n",
       "        vertical-align: top;\n",
       "    }\n",
       "\n",
       "    .dataframe thead th {\n",
       "        text-align: right;\n",
       "    }\n",
       "</style>\n",
       "<table border=\"1\" class=\"dataframe\">\n",
       "  <thead>\n",
       "    <tr style=\"text-align: right;\">\n",
       "      <th></th>\n",
       "      <th>types</th>\n",
       "      <th>counts</th>\n",
       "      <th>distincts</th>\n",
       "      <th>missing count</th>\n",
       "      <th>missing ratio</th>\n",
       "      <th>distinct values</th>\n",
       "    </tr>\n",
       "  </thead>\n",
       "  <tbody>\n",
       "    <tr>\n",
       "      <th>SOTimeSaved</th>\n",
       "      <td>object</td>\n",
       "      <td>86344</td>\n",
       "      <td>5</td>\n",
       "      <td>2539</td>\n",
       "      <td>2.856564</td>\n",
       "      <td>[[Stack Overflow was much faster, They were ab...</td>\n",
       "    </tr>\n",
       "    <tr>\n",
       "      <th>SOVisitTo</th>\n",
       "      <td>object</td>\n",
       "      <td>88086</td>\n",
       "      <td>63</td>\n",
       "      <td>797</td>\n",
       "      <td>0.896684</td>\n",
       "      <td>[[Find answers to specific questions;Learn how...</td>\n",
       "    </tr>\n",
       "    <tr>\n",
       "      <th>SOVisitFreq</th>\n",
       "      <td>object</td>\n",
       "      <td>88263</td>\n",
       "      <td>6</td>\n",
       "      <td>620</td>\n",
       "      <td>0.697546</td>\n",
       "      <td>[[A few times per month or weekly, Daily or al...</td>\n",
       "    </tr>\n",
       "    <tr>\n",
       "      <th>Respondent</th>\n",
       "      <td>int64</td>\n",
       "      <td>88883</td>\n",
       "      <td>88883</td>\n",
       "      <td>0</td>\n",
       "      <td>0.000000</td>\n",
       "      <td>[[1, 2, 3, 4, 5, 6, 7, 8, 9, 10, 11, 12, 13, 1...</td>\n",
       "    </tr>\n",
       "  </tbody>\n",
       "</table>\n",
       "</div>"
      ],
      "text/plain": [
       "              types  counts  distincts  missing count  missing ratio  \\\n",
       "SOTimeSaved  object   86344          5           2539       2.856564   \n",
       "SOVisitTo    object   88086         63            797       0.896684   \n",
       "SOVisitFreq  object   88263          6            620       0.697546   \n",
       "Respondent    int64   88883      88883              0       0.000000   \n",
       "\n",
       "                                               distinct values  \n",
       "SOTimeSaved  [[Stack Overflow was much faster, They were ab...  \n",
       "SOVisitTo    [[Find answers to specific questions;Learn how...  \n",
       "SOVisitFreq  [[A few times per month or weekly, Daily or al...  \n",
       "Respondent   [[1, 2, 3, 4, 5, 6, 7, 8, 9, 10, 11, 12, 13, 1...  "
      ]
     },
     "metadata": {},
     "output_type": "display_data"
    },
    {
     "name": "stdout",
     "output_type": "stream",
     "text": [
      "\n",
      "----- Descriptive Statistics -----\n",
      "\n"
     ]
    },
    {
     "data": {
      "text/html": [
       "<div>\n",
       "<style scoped>\n",
       "    .dataframe tbody tr th:only-of-type {\n",
       "        vertical-align: middle;\n",
       "    }\n",
       "\n",
       "    .dataframe tbody tr th {\n",
       "        vertical-align: top;\n",
       "    }\n",
       "\n",
       "    .dataframe thead th {\n",
       "        text-align: right;\n",
       "    }\n",
       "</style>\n",
       "<table border=\"1\" class=\"dataframe\">\n",
       "  <thead>\n",
       "    <tr style=\"text-align: right;\">\n",
       "      <th></th>\n",
       "      <th>mean</th>\n",
       "      <th>std</th>\n",
       "      <th>min</th>\n",
       "      <th>25%</th>\n",
       "      <th>50%</th>\n",
       "      <th>75%</th>\n",
       "      <th>max</th>\n",
       "      <th>skewness</th>\n",
       "      <th>kurtosis</th>\n",
       "    </tr>\n",
       "  </thead>\n",
       "  <tbody>\n",
       "    <tr>\n",
       "      <th>Respondent</th>\n",
       "      <td>44442.0</td>\n",
       "      <td>25658.46</td>\n",
       "      <td>1.0</td>\n",
       "      <td>22221.5</td>\n",
       "      <td>44442.0</td>\n",
       "      <td>66662.5</td>\n",
       "      <td>88883.0</td>\n",
       "      <td>0.0</td>\n",
       "      <td>-1.2</td>\n",
       "    </tr>\n",
       "  </tbody>\n",
       "</table>\n",
       "</div>"
      ],
      "text/plain": [
       "               mean       std  min      25%      50%      75%      max  \\\n",
       "Respondent  44442.0  25658.46  1.0  22221.5  44442.0  66662.5  88883.0   \n",
       "\n",
       "            skewness  kurtosis  \n",
       "Respondent       0.0      -1.2  "
      ]
     },
     "metadata": {},
     "output_type": "display_data"
    }
   ],
   "source": [
    "# Data Summaries\n",
    "data_summaries(df)"
   ]
  },
  {
   "cell_type": "markdown",
   "metadata": {},
   "source": [
    "Observing from the above data summary, there are missing values on All column except Respondent. Thus in the next section we will deal with the missing values"
   ]
  },
  {
   "cell_type": "markdown",
   "metadata": {},
   "source": [
    "## Data Preparation"
   ]
  },
  {
   "cell_type": "markdown",
   "metadata": {},
   "source": [
    "In this step we will:\n",
    "- Handling Missing Values\n",
    "- Handling SOVisitTo where have multiple answer in one columns"
   ]
  },
  {
   "cell_type": "markdown",
   "metadata": {},
   "source": [
    "### Handling Missing Values\n",
    "\n",
    "Since this is a survey results. The null value here are represented as the respondent not answer the question. \n",
    "So, I decided to impute the missing values with 'Not Answer'"
   ]
  },
  {
   "cell_type": "code",
   "execution_count": 160,
   "metadata": {},
   "outputs": [],
   "source": [
    "# Clone Dataframe for Preparation\n",
    "df_prep = df"
   ]
  },
  {
   "cell_type": "code",
   "execution_count": 161,
   "metadata": {},
   "outputs": [],
   "source": [
    "df_prep = df_prep.fillna('Not Answered')"
   ]
  },
  {
   "cell_type": "code",
   "execution_count": 162,
   "metadata": {},
   "outputs": [
    {
     "data": {
      "text/plain": [
       "Respondent     0\n",
       "SOVisitFreq    0\n",
       "SOVisitTo      0\n",
       "SOTimeSaved    0\n",
       "dtype: int64"
      ]
     },
     "execution_count": 162,
     "metadata": {},
     "output_type": "execute_result"
    }
   ],
   "source": [
    "df_prep.isna().sum()"
   ]
  },
  {
   "cell_type": "markdown",
   "metadata": {},
   "source": [
    "Finaly there are no missing values in our data"
   ]
  },
  {
   "cell_type": "markdown",
   "metadata": {},
   "source": [
    "### Cleaning People Reasons"
   ]
  },
  {
   "cell_type": "code",
   "execution_count": 163,
   "metadata": {},
   "outputs": [
    {
     "name": "stdout",
     "output_type": "stream",
     "text": [
      "The number of answers is 7.\n"
     ]
    },
    {
     "data": {
      "text/plain": [
       "{'Contribute to a library of information',\n",
       " 'Find answers to specific questions',\n",
       " 'Get a sense of belonging to the developer community',\n",
       " 'Learn how to do things I didn’t necessarily look for',\n",
       " 'Meet other people with similar skills or interests',\n",
       " 'Not Answered',\n",
       " 'Pass the time / relax'}"
      ]
     },
     "execution_count": 163,
     "metadata": {},
     "output_type": "execute_result"
    }
   ],
   "source": [
    "# find of different answer\n",
    "answers = []\n",
    "for val in df_prep.SOVisitTo:\n",
    "    try:\n",
    "        answers.extend(val.split(';'))\n",
    "    except AttributeError:\n",
    "        pass\n",
    "\n",
    "# we end up needing this later\n",
    "answers = set(answers)\n",
    "print(\"The number of answers is {}.\".format(len(answers)))\n",
    "answers"
   ]
  },
  {
   "cell_type": "code",
   "execution_count": 164,
   "metadata": {},
   "outputs": [],
   "source": [
    "# Function to split and return values for columns\n",
    "def split_answer(val):\n",
    "    try:\n",
    "        if val.find(ans) >-1:\n",
    "            return 1\n",
    "        else:\n",
    "            return 0\n",
    "    except AttributeError:\n",
    "        return 0\n",
    "\n",
    "# Apply function for each genre\n",
    "for ans in answers:        \n",
    "    df_prep[ans] = df_prep['SOVisitTo'].apply(split_answer)"
   ]
  },
  {
   "cell_type": "code",
   "execution_count": 165,
   "metadata": {},
   "outputs": [
    {
     "data": {
      "text/html": [
       "<div>\n",
       "<style scoped>\n",
       "    .dataframe tbody tr th:only-of-type {\n",
       "        vertical-align: middle;\n",
       "    }\n",
       "\n",
       "    .dataframe tbody tr th {\n",
       "        vertical-align: top;\n",
       "    }\n",
       "\n",
       "    .dataframe thead th {\n",
       "        text-align: right;\n",
       "    }\n",
       "</style>\n",
       "<table border=\"1\" class=\"dataframe\">\n",
       "  <thead>\n",
       "    <tr style=\"text-align: right;\">\n",
       "      <th></th>\n",
       "      <th>Respondent</th>\n",
       "      <th>SOVisitFreq</th>\n",
       "      <th>SOVisitTo</th>\n",
       "      <th>SOTimeSaved</th>\n",
       "      <th>Contribute to a library of information</th>\n",
       "      <th>Get a sense of belonging to the developer community</th>\n",
       "      <th>Meet other people with similar skills or interests</th>\n",
       "      <th>Not Answered</th>\n",
       "      <th>Find answers to specific questions</th>\n",
       "      <th>Pass the time / relax</th>\n",
       "      <th>Learn how to do things I didn’t necessarily look for</th>\n",
       "    </tr>\n",
       "  </thead>\n",
       "  <tbody>\n",
       "    <tr>\n",
       "      <th>0</th>\n",
       "      <td>1</td>\n",
       "      <td>A few times per month or weekly</td>\n",
       "      <td>Find answers to specific questions;Learn how t...</td>\n",
       "      <td>Stack Overflow was much faster</td>\n",
       "      <td>0</td>\n",
       "      <td>0</td>\n",
       "      <td>0</td>\n",
       "      <td>0</td>\n",
       "      <td>1</td>\n",
       "      <td>0</td>\n",
       "      <td>1</td>\n",
       "    </tr>\n",
       "    <tr>\n",
       "      <th>1</th>\n",
       "      <td>2</td>\n",
       "      <td>Daily or almost daily</td>\n",
       "      <td>Find answers to specific questions;Learn how t...</td>\n",
       "      <td>Stack Overflow was much faster</td>\n",
       "      <td>0</td>\n",
       "      <td>0</td>\n",
       "      <td>0</td>\n",
       "      <td>0</td>\n",
       "      <td>1</td>\n",
       "      <td>0</td>\n",
       "      <td>1</td>\n",
       "    </tr>\n",
       "    <tr>\n",
       "      <th>2</th>\n",
       "      <td>3</td>\n",
       "      <td>A few times per week</td>\n",
       "      <td>Find answers to specific questions;Learn how t...</td>\n",
       "      <td>They were about the same</td>\n",
       "      <td>0</td>\n",
       "      <td>0</td>\n",
       "      <td>0</td>\n",
       "      <td>0</td>\n",
       "      <td>1</td>\n",
       "      <td>0</td>\n",
       "      <td>1</td>\n",
       "    </tr>\n",
       "    <tr>\n",
       "      <th>3</th>\n",
       "      <td>4</td>\n",
       "      <td>Daily or almost daily</td>\n",
       "      <td>Find answers to specific questions;Pass the ti...</td>\n",
       "      <td>Stack Overflow was much faster</td>\n",
       "      <td>0</td>\n",
       "      <td>0</td>\n",
       "      <td>0</td>\n",
       "      <td>0</td>\n",
       "      <td>1</td>\n",
       "      <td>1</td>\n",
       "      <td>0</td>\n",
       "    </tr>\n",
       "    <tr>\n",
       "      <th>4</th>\n",
       "      <td>5</td>\n",
       "      <td>Multiple times per day</td>\n",
       "      <td>Find answers to specific questions</td>\n",
       "      <td>Stack Overflow was much faster</td>\n",
       "      <td>0</td>\n",
       "      <td>0</td>\n",
       "      <td>0</td>\n",
       "      <td>0</td>\n",
       "      <td>1</td>\n",
       "      <td>0</td>\n",
       "      <td>0</td>\n",
       "    </tr>\n",
       "  </tbody>\n",
       "</table>\n",
       "</div>"
      ],
      "text/plain": [
       "   Respondent                      SOVisitFreq  \\\n",
       "0           1  A few times per month or weekly   \n",
       "1           2            Daily or almost daily   \n",
       "2           3             A few times per week   \n",
       "3           4            Daily or almost daily   \n",
       "4           5           Multiple times per day   \n",
       "\n",
       "                                           SOVisitTo  \\\n",
       "0  Find answers to specific questions;Learn how t...   \n",
       "1  Find answers to specific questions;Learn how t...   \n",
       "2  Find answers to specific questions;Learn how t...   \n",
       "3  Find answers to specific questions;Pass the ti...   \n",
       "4                 Find answers to specific questions   \n",
       "\n",
       "                      SOTimeSaved  Contribute to a library of information  \\\n",
       "0  Stack Overflow was much faster                                       0   \n",
       "1  Stack Overflow was much faster                                       0   \n",
       "2        They were about the same                                       0   \n",
       "3  Stack Overflow was much faster                                       0   \n",
       "4  Stack Overflow was much faster                                       0   \n",
       "\n",
       "   Get a sense of belonging to the developer community  \\\n",
       "0                                                  0     \n",
       "1                                                  0     \n",
       "2                                                  0     \n",
       "3                                                  0     \n",
       "4                                                  0     \n",
       "\n",
       "   Meet other people with similar skills or interests  Not Answered  \\\n",
       "0                                                  0              0   \n",
       "1                                                  0              0   \n",
       "2                                                  0              0   \n",
       "3                                                  0              0   \n",
       "4                                                  0              0   \n",
       "\n",
       "   Find answers to specific questions  Pass the time / relax  \\\n",
       "0                                   1                      0   \n",
       "1                                   1                      0   \n",
       "2                                   1                      0   \n",
       "3                                   1                      1   \n",
       "4                                   1                      0   \n",
       "\n",
       "   Learn how to do things I didn’t necessarily look for  \n",
       "0                                                  1     \n",
       "1                                                  1     \n",
       "2                                                  1     \n",
       "3                                                  0     \n",
       "4                                                  0     "
      ]
     },
     "execution_count": 165,
     "metadata": {},
     "output_type": "execute_result"
    }
   ],
   "source": [
    "df_prep.head()"
   ]
  },
  {
   "cell_type": "code",
   "execution_count": 166,
   "metadata": {},
   "outputs": [],
   "source": [
    "df_cleaned = df_prep"
   ]
  },
  {
   "cell_type": "markdown",
   "metadata": {},
   "source": [
    "## Data Analysis"
   ]
  },
  {
   "cell_type": "markdown",
   "metadata": {},
   "source": [
    "### How often are people visiting Stack Overflow?"
   ]
  },
  {
   "cell_type": "code",
   "execution_count": 167,
   "metadata": {},
   "outputs": [],
   "source": [
    "def create_columnchart(df,feature,title):\n",
    "    '''\n",
    "    Purpose:\n",
    "        Create a boxplot comparing survey answer results\n",
    "    Args:\n",
    "        df: dataframe\n",
    "        feature: string of single column name that will be compared\n",
    "        title: chart title\n",
    "    Output:\n",
    "        column chart compared survey answers by percentage\n",
    "    '''\n",
    "\n",
    "\n",
    "    sns.set(font_scale=1.2)\n",
    "\n",
    "    f, ax = plt.subplots(figsize=(20, 8))\n",
    "\n",
    "    g = sns.barplot(x = df[feature].value_counts()/len(df_cleaned)*100, \n",
    "                    y = df[feature].value_counts().index ,\n",
    "                    color = 'royalblue'\n",
    "                    )\n",
    "\n",
    "    ax.set(title = title + '\\n')\n",
    "    plt.xlabel('Value in Percent')"
   ]
  },
  {
   "cell_type": "code",
   "execution_count": 168,
   "metadata": {},
   "outputs": [
    {
     "data": {
      "image/png": "[encoded data removed]",
      "text/plain": [
       "<Figure size 1440x576 with 1 Axes>"
      ]
     },
     "metadata": {},
     "output_type": "display_data"
    }
   ],
   "source": [
    "create_columnchart(df_cleaned,'SOVisitFreq','How Frequent People Visited Stack Overflow?')"
   ]
  },
  {
   "cell_type": "markdown",
   "metadata": {},
   "source": [
    "Most Peoples are visited Daily or Multiple times per day. This contributes around 60% from the toal answers. This indicates that Stack Overflow are very active community."
   ]
  },
  {
   "cell_type": "markdown",
   "metadata": {},
   "source": [
    "### Why Do Developers Visit Stack Overflow?\n"
   ]
  },
  {
   "cell_type": "code",
   "execution_count": 169,
   "metadata": {},
   "outputs": [
    {
     "data": {
      "text/plain": [
       "Text(0.5, 0, 'Value in Percent')"
      ]
     },
     "execution_count": 169,
     "metadata": {},
     "output_type": "execute_result"
    },
    {
     "data": {
      "image/png": "[encoded data removed]",
      "text/plain": [
       "<Figure size 1440x576 with 1 Axes>"
      ]
     },
     "metadata": {},
     "output_type": "display_data"
    }
   ],
   "source": [
    "# Prepare Data\n",
    "\n",
    "df_stacked = df_cleaned.iloc[:,5:]\n",
    "df_stacked.head()\n",
    "\n",
    "# Plotting\n",
    "\n",
    "sns.set(font_scale=1.2)\n",
    "\n",
    "f, ax = plt.subplots(figsize=(20, 8))\n",
    "\n",
    "g = sns.barplot(x = (df_stacked.sum(axis = 0)/len(df_cleaned)*100).sort_values(ascending = False), \n",
    "                y = (df_stacked.sum(axis = 0)/len(df_cleaned)*100).sort_values(ascending = False).index ,\n",
    "                color = 'royalblue',                \n",
    "                )\n",
    "\n",
    "ax.set(title = 'Why People Visited Stack Overflow\\n')\n",
    "plt.xlabel('Value in Percent')"
   ]
  },
  {
   "cell_type": "markdown",
   "metadata": {},
   "source": [
    "Almost all people in the survey are visited Stack Overflow to find answer to specific question. Other things that people do are learn how to do things that they didn't neccessarily need yet. Then peoples also want to contribute to a library of information. From here we can say that stack overflow are become go to platform to find answer for developers."
   ]
  },
  {
   "cell_type": "markdown",
   "metadata": {},
   "source": [
    "## How is Stack Overflow compared to other Platform"
   ]
  },
  {
   "cell_type": "code",
   "execution_count": 170,
   "metadata": {},
   "outputs": [
    {
     "data": {
      "image/png": "[encoded data removed]",
      "text/plain": [
       "<Figure size 1440x576 with 1 Axes>"
      ]
     },
     "metadata": {},
     "output_type": "display_data"
    }
   ],
   "source": [
    "create_columnchart(df_cleaned,'SOTimeSaved','How is Stack Overflow Compared to Other Platform')"
   ]
  },
  {
   "cell_type": "markdown",
   "metadata": {},
   "source": [
    "Majority of people are said that stack overflow are was much faster. This is the difference between the other resource. Thats confirm why people tend to choose Stack Overflow not other platform."
   ]
  },
  {
   "cell_type": "markdown",
   "metadata": {},
   "source": [
    "## Conslusion"
   ]
  },
  {
   "cell_type": "markdown",
   "metadata": {},
   "source": [
    "In summary We could Answer All our Question using this data\n",
    "\n",
    "- __How often are people visiting Stack Overflow?__  \n",
    "Most Peoples are visited Daily or Multiple times per day. This contributes around 60% from the toal answers. This indicates that Stack Overflow are very active community.\n",
    "\n",
    "- __Why Do Developers Visit Stack Overflow?__  \n",
    "Almost all people in the survey are visited Stack Overflow to find answer to specific question. Other things that people do are learn how to do things that they didn't neccessarily need yet. Then peoples also want to contribute to a library of information. From here we can say that stack overflow are become go to platform to find answer for developers.\n",
    "\n",
    "- __Why peoples are visiting Stack Overflow compared to other platform?__  \n",
    "Majority of people are said that stack overflow are was much faster. This is the difference between the other resource. Thats confirm why people tend to choose Stack Overflow not other platform."
   ]
  }
 ],
 "metadata": {
  "kernelspec": {
   "display_name": "Python 3",
   "language": "python",
   "name": "python3"
  },
  "language_info": {
   "codemirror_mode": {
    "name": "ipython",
    "version": 3
   },
   "file_extension": ".py",
   "mimetype": "text/x-python",
   "name": "python",
   "nbconvert_exporter": "python",
   "pygments_lexer": "ipython3",
   "version": "3.7.6"
  }
 },
 "nbformat": 4,
 "nbformat_minor": 4
}
